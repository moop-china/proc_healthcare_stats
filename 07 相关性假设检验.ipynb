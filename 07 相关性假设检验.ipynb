{
 "cells": [
  {
   "cell_type": "markdown",
   "metadata": {},
   "source": [
    "<b> 参考网址 ： https://wenku.baidu.com/view/dac85a6e3868011ca300a6c30c2259010302f304.html </b> \n",
    "\n",
    "\n",
    "\n",
    "<center><img src='data/corr.jpg' /> </center>\n",
    "\n",
    "\n",
    "## <b> 数据集相关度系数简介  </b> ##\n",
    "\n",
    "df ：pandas 数据框（dataframe）\n",
    "\n",
    "df.corr() #计算pearson相关系数\n",
    "\n",
    "df.corr('spearman')  #计算spearman相关系数\n",
    "\n",
    "df.corr('kendall')  #计算kendall相关系数"
   ]
  },
  {
   "cell_type": "markdown",
   "metadata": {},
   "source": [
    "# 1. 连续变量的相关分析"
   ]
  },
  {
   "cell_type": "markdown",
   "metadata": {},
   "source": [
    "　　虽然样本相关系数r可作为总体相关系数ρ的估计值，但从相关系数ρ=0的总体中抽出的样本，计算其相关系数r，因为有抽样误差，故不一定是0，要判断不等于0的r值是来自ρ=0的总体还是来自ρ≠0的总体，必须进行显著性检验。检验假设是ρ=0，r与0的差别是否显著要按该样本来自ρ=0的总体概率而定。如果从相关系数ρ=0的总体中取得某r值的概率P>0.05，我们就接受假设，认为此r值的很可能是从此总体中取得的。因此判断两变量间无显著关系；如果取得r值的概率P≤0.05或P≤0.01，我们就在α=0.05或α=0.01水准上拒绝检验假设，认为该r值不是来自ρ=0的总体，而是来自ρ≠0的另一个总体，因此就判断两变量间有显著关系。"
   ]
  },
  {
   "cell_type": "code",
   "execution_count": 3,
   "metadata": {},
   "outputs": [
    {
     "name": "stdout",
     "output_type": "stream",
     "text": [
      "['.ipynb_checkpoints', 'data', 'install.ipynb', '10. ROC分析.ipynb', '02 . 统计描述.ipynb', '01. 绪论.ipynb', '04. 两组数值变量比较的假设检验.ipynb', '05. 多组数值变量比较的假设检验.ipynb', '06. 有序变量比较的假设检验.ipynb', '09. 逻辑回归分析.ipynb', '07. 分类变量比较的假设检验.ipynb', '08. 相关性假设检验.ipynb', '03. 常规检验.ipynb']\n"
     ]
    }
   ],
   "source": [
    "import os\n",
    "import pandas as pd\n",
    "import seaborn as sns\n",
    "import numpy as np\n",
    "import scipy\n",
    "from scipy import stats\n",
    "from sklearn.preprocessing import StandardScaler\n",
    "from sklearn import datasets\n",
    "import statsmodels.stats.proportion as smp\n",
    "import matplotlib.pyplot as plt\n",
    "%matplotlib inline\n",
    "import warnings\n",
    "warnings.filterwarnings(\"ignore\")\n",
    "\n",
    "dir = \"./\"\n",
    "print(os.listdir(\"./\"))  # 确认路径正确"
   ]
  },
  {
   "cell_type": "code",
   "execution_count": 4,
   "metadata": {},
   "outputs": [
    {
     "data": {
      "text/html": [
       "<div>\n",
       "<style scoped>\n",
       "    .dataframe tbody tr th:only-of-type {\n",
       "        vertical-align: middle;\n",
       "    }\n",
       "\n",
       "    .dataframe tbody tr th {\n",
       "        vertical-align: top;\n",
       "    }\n",
       "\n",
       "    .dataframe thead th {\n",
       "        text-align: right;\n",
       "    }\n",
       "</style>\n",
       "<table border=\"1\" class=\"dataframe\">\n",
       "  <thead>\n",
       "    <tr style=\"text-align: right;\">\n",
       "      <th></th>\n",
       "      <th>年龄</th>\n",
       "      <th>性别</th>\n",
       "      <th>胸痛类型</th>\n",
       "      <th>静息血压</th>\n",
       "      <th>血浆类固醇含量（mg/dl）</th>\n",
       "      <th>空腹血糖&gt;120mg/dl</th>\n",
       "      <th>静息心电图结果</th>\n",
       "      <th>最高心率</th>\n",
       "      <th>运动型心绞痛</th>\n",
       "      <th>运动引起的ST下降</th>\n",
       "      <th>最大运动量时心电图ST的斜率</th>\n",
       "      <th>使用荧光染色法测定的主血管数</th>\n",
       "      <th>THAL</th>\n",
       "      <th>患病情况</th>\n",
       "    </tr>\n",
       "  </thead>\n",
       "  <tbody>\n",
       "    <tr>\n",
       "      <th>0</th>\n",
       "      <td>70</td>\n",
       "      <td>1</td>\n",
       "      <td>4</td>\n",
       "      <td>130</td>\n",
       "      <td>322</td>\n",
       "      <td>0</td>\n",
       "      <td>2</td>\n",
       "      <td>109</td>\n",
       "      <td>0</td>\n",
       "      <td>2.4</td>\n",
       "      <td>2</td>\n",
       "      <td>3</td>\n",
       "      <td>3</td>\n",
       "      <td>2</td>\n",
       "    </tr>\n",
       "    <tr>\n",
       "      <th>1</th>\n",
       "      <td>67</td>\n",
       "      <td>0</td>\n",
       "      <td>3</td>\n",
       "      <td>115</td>\n",
       "      <td>564</td>\n",
       "      <td>0</td>\n",
       "      <td>2</td>\n",
       "      <td>160</td>\n",
       "      <td>0</td>\n",
       "      <td>1.6</td>\n",
       "      <td>2</td>\n",
       "      <td>0</td>\n",
       "      <td>7</td>\n",
       "      <td>1</td>\n",
       "    </tr>\n",
       "    <tr>\n",
       "      <th>2</th>\n",
       "      <td>57</td>\n",
       "      <td>1</td>\n",
       "      <td>2</td>\n",
       "      <td>124</td>\n",
       "      <td>261</td>\n",
       "      <td>0</td>\n",
       "      <td>0</td>\n",
       "      <td>141</td>\n",
       "      <td>0</td>\n",
       "      <td>0.3</td>\n",
       "      <td>1</td>\n",
       "      <td>0</td>\n",
       "      <td>7</td>\n",
       "      <td>2</td>\n",
       "    </tr>\n",
       "    <tr>\n",
       "      <th>3</th>\n",
       "      <td>64</td>\n",
       "      <td>1</td>\n",
       "      <td>4</td>\n",
       "      <td>128</td>\n",
       "      <td>263</td>\n",
       "      <td>0</td>\n",
       "      <td>0</td>\n",
       "      <td>105</td>\n",
       "      <td>1</td>\n",
       "      <td>0.2</td>\n",
       "      <td>2</td>\n",
       "      <td>1</td>\n",
       "      <td>7</td>\n",
       "      <td>1</td>\n",
       "    </tr>\n",
       "    <tr>\n",
       "      <th>4</th>\n",
       "      <td>74</td>\n",
       "      <td>0</td>\n",
       "      <td>2</td>\n",
       "      <td>120</td>\n",
       "      <td>269</td>\n",
       "      <td>0</td>\n",
       "      <td>2</td>\n",
       "      <td>121</td>\n",
       "      <td>1</td>\n",
       "      <td>0.2</td>\n",
       "      <td>1</td>\n",
       "      <td>1</td>\n",
       "      <td>3</td>\n",
       "      <td>1</td>\n",
       "    </tr>\n",
       "  </tbody>\n",
       "</table>\n",
       "</div>"
      ],
      "text/plain": [
       "   年龄  性别  胸痛类型  静息血压  血浆类固醇含量（mg/dl）  空腹血糖>120mg/dl  静息心电图结果  最高心率  运动型心绞痛  \\\n",
       "0  70   1     4   130             322              0        2   109       0   \n",
       "1  67   0     3   115             564              0        2   160       0   \n",
       "2  57   1     2   124             261              0        0   141       0   \n",
       "3  64   1     4   128             263              0        0   105       1   \n",
       "4  74   0     2   120             269              0        2   121       1   \n",
       "\n",
       "   运动引起的ST下降  最大运动量时心电图ST的斜率  使用荧光染色法测定的主血管数  THAL  患病情况  \n",
       "0        2.4               2               3     3     2  \n",
       "1        1.6               2               0     7     1  \n",
       "2        0.3               1               0     7     2  \n",
       "3        0.2               2               1     7     1  \n",
       "4        0.2               1               1     3     1  "
      ]
     },
     "execution_count": 4,
     "metadata": {},
     "output_type": "execute_result"
    }
   ],
   "source": [
    "df = pd.read_csv(dir+\"data/心脏病诊断数据集（原数据）.csv\",header=None) #读取csv文件，没有列名\n",
    "df.columns = [\"年龄\",\"性别\",\"胸痛类型\",\"静息血压\",\"血浆类固醇含量（mg/dl）\",\"空腹血糖>120mg/dl\",\"静息心电图结果\",\"最高心率\",\"运动型心绞痛\",\"运动引起的ST下降\",\"最大运动量时心电图ST的斜率\",\"使用荧光染色法测定的主血管数\",\"THAL\",\"患病情况\"]                                                 #添加列名\n",
    "df.head(5)"
   ]
  },
  {
   "cell_type": "markdown",
   "metadata": {},
   "source": [
    "# <b>Pearson相关性分析</b>\n",
    "\n",
    "<b>Pearson:皮尔森相关性系数,约束条件：</b>\n",
    "\n",
    "1、两个变量间有线性关系,如果是曲线相关可能不准确。\n",
    "\n",
    "2、变量是连续变量\n",
    "\n",
    "3、两个变量的总体均符合正态分布：取大样本进行正态分布非参数检验\n",
    "\n",
    "4、两变量独立\n",
    "  \n",
    "  由于来自ρ-0的总体的所有样本相关系数呈对称分布，故r的显著性可用t检验来进行。进行t检验的步骤为：\n",
    "  \n",
    "  1．提出假设，H0：ρ=0，H1：ρ≠0，α=0.01\n",
    "  \n",
    "  2．计算相关系数的r的t值、 p值\n"
   ]
  },
  {
   "cell_type": "code",
   "execution_count": 5,
   "metadata": {},
   "outputs": [
    {
     "name": "stdout",
     "output_type": "stream",
     "text": [
      "Pearson相关系数 -0.06269339383516666 \n",
      "T检验P_value : 0.30470865932721747\n"
     ]
    }
   ],
   "source": [
    "r , p = stats.pearsonr(df[\"性别\"],df[\"静息血压\"])\n",
    "print(\"Pearson相关系数 :\",r,\"\\nT检验P_value :\",p)   "
   ]
  },
  {
   "cell_type": "markdown",
   "metadata": {},
   "source": [
    "# Spearman相关性检验\n",
    "\n",
    "spearman: 斯皮尔曼相关性系数，通常也叫斯皮尔曼秩相关系数,属于非参数统计方法。。“秩”，可以理解成就是一种顺序或者排序，那么它就是根据原始数据的排序位置进行求解，这种表征形式就没有了求皮尔森相关性系数时那些限制。\n",
    "\n",
    "<b> 适用条件 </b>\n",
    "\n",
    "    不服从双变量正态分布；\n",
    "\n",
    "    总体分布形态未知；\n",
    "\n",
    "    原始数据是等级资料。    \n",
    "\n",
    "符合其中任何一条，即可采用spearman相关性分析。\n",
    "\n",
    "<b> 分析步骤 </b>    \n",
    "\n",
    "    提出假设 , H0 : X 和 Y 不相关 ， H1 ： X 和 Y 相关"
   ]
  },
  {
   "cell_type": "markdown",
   "metadata": {},
   "source": [
    "<center><img src='data/spearman.jpg' /> </center>"
   ]
  },
  {
   "cell_type": "code",
   "execution_count": 6,
   "metadata": {},
   "outputs": [
    {
     "name": "stdout",
     "output_type": "stream",
     "text": [
      "Spearman相关系数 -0.054963048307219806 \n",
      "T检验P_value : 0.3683197623845299\n"
     ]
    }
   ],
   "source": [
    "sp , p = stats.spearmanr(df[\"性别\"],df[\"静息血压\"])\n",
    "print(\"Spearman相关系数 :\",sp,\"\\nT检验P_value :\",p)  "
   ]
  },
  {
   "cell_type": "markdown",
   "metadata": {},
   "source": [
    "# 2. 有序分类变量的相关性分析\n",
    "\n",
    "有序分类变量的相关性又称为一致性，即行变量等级高的列变量等级也高，如果行变量等级高而列变量等级低，则称为不一致。\n",
    "\n",
    "常用的统计量有：Gamma、Kendall的tau-b、Kendall的tau-c等。\n",
    "\n",
    "kendall ： 肯德尔相关系数是以Maurice Kendall命名的，并经常用希腊字母τ（tau）表示其值。肯德尔相关系数是一个用来测量两个随机变量相关性的统计值。一个肯德尔检验是一个无参数假设检验，它使用计算而得的相关系数去检验两个随机变量的统计依赖性。肯德尔相关系数的取值范围在-1到1之间，当τ为1时，表示两个随机变量拥有一致的等级相关性；当τ为-1时，表示两个随机变量拥有完全相反的等级相关性；当τ为0时，表示两个随机变量是相互独立的。\n"
   ]
  },
  {
   "cell_type": "code",
   "execution_count": 13,
   "metadata": {},
   "outputs": [
    {
     "name": "stdout",
     "output_type": "stream",
     "text": [
      "统计值 ：  0.15698430306305192\n",
      "p值 ：   0.007960500725717105\n"
     ]
    }
   ],
   "source": [
    "tau , p  = stats.kendalltau(df[\"静息心电图结果\"] , df[\"最大运动量时心电图ST的斜率\"])\n",
    "print (\"统计值 ： \" , tau )\n",
    "print(\"p值 ：  \" , p )"
   ]
  },
  {
   "cell_type": "markdown",
   "metadata": {},
   "source": [
    "# 3. 无序分类变量的相关分析\n",
    "\n",
    "最常用的为卡方检验(在“分类变量比较的假设检验”章节有此检验方法的介绍），用于评价两个无序分类变量的相关性。根据卡方值衍生出来的指标还有列联系数、Phi、Cramer的V、Lambda系数、不确定系数等。\n",
    "\n",
    "OR、RR也是衡量两变量之间的相关程度的指标。"
   ]
  },
  {
   "cell_type": "code",
   "execution_count": 14,
   "metadata": {},
   "outputs": [
    {
     "name": "stdout",
     "output_type": "stream",
     "text": [
      "               A   B    C   D\n",
      "White Collar  90  60  104  95\n",
      "Blue Collar   30  50   51  20\n",
      "No collar     30  40   45  35\n"
     ]
    }
   ],
   "source": [
    "cols = ['A', 'B', 'C', 'D']\n",
    "data = pd.DataFrame(columns=cols)\n",
    "\n",
    "data.loc['White Collar'] = [90, 60, 104, 95]\n",
    "data.loc['Blue Collar'] = [30, 50, 51, 20]\n",
    "data.loc['No collar'] = [30, 40, 45, 35]\n",
    "\n",
    "print (data)"
   ]
  },
  {
   "cell_type": "markdown",
   "metadata": {},
   "source": []
  },
  {
   "cell_type": "code",
   "execution_count": 15,
   "metadata": {},
   "outputs": [
    {
     "name": "stdout",
     "output_type": "stream",
     "text": [
      "P value for effect of area on proportion of each collar:\n",
      "0.0004098425861096696\n",
      "\n",
      "Expected numbers if area did not effect proportion of each collar:\n",
      "[[ 80.53846154  80.53846154 107.38461538  80.53846154]\n",
      " [ 34.84615385  34.84615385  46.46153846  34.84615385]\n",
      " [ 34.61538462  34.61538462  46.15384615  34.61538462]]\n"
     ]
    }
   ],
   "source": [
    "V, p, dof, expected = stats.chi2_contingency(data) \n",
    "# add correction=False for uncorrected Chi-square\n",
    "\n",
    "print ('P value for effect of area on proportion of each collar:')\n",
    "print (p)\n",
    "print ('\\nExpected numbers if area did not effect proportion of each collar:')\n",
    "print (expected)"
   ]
  },
  {
   "cell_type": "code",
   "execution_count": null,
   "metadata": {},
   "outputs": [],
   "source": []
  }
 ],
 "metadata": {
  "kernelspec": {
   "display_name": "Python 3",
   "language": "python",
   "name": "python3"
  },
  "language_info": {
   "codemirror_mode": {
    "name": "ipython",
    "version": 3
   },
   "file_extension": ".py",
   "mimetype": "text/x-python",
   "name": "python",
   "nbconvert_exporter": "python",
   "pygments_lexer": "ipython3",
   "version": "3.7.1"
  }
 },
 "nbformat": 4,
 "nbformat_minor": 2
}
