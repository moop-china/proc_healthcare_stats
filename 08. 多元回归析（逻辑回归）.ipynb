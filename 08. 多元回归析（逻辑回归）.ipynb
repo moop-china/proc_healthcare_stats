{
 "cells": [
  {
   "cell_type": "markdown",
   "metadata": {},
   "source": [
    "逻辑回归常用于医学上研究多个影响因素对结果变量的关系或作用。例如：冠心病与高血压史、高血脂史和吸烟等危险因素关系的研究\n",
    "\n",
    "参考网页 ： http://www.woc88.com/p32705383.html\n",
    "\n",
    "           厦门大学数据库实验室 ： http://dblab.xmu.edu.cn/blog/logistic-regression-in-python/\n",
    "\n",
    "采用单因素统计方法：\n",
    "    - 常采用X2卡方检验，但如有混杂因素干扰，会导致结果不一定正确；\n",
    "    - 不能回答哪个因素（x）对（y）关系更密切或作用更大；\n",
    "采用多因素分析：\n",
    "    - 常常使用逻辑回归，可校正混杂因素，正确评价结果的效应；\n",
    "    - 回答哪个因素对事件（疾病）作用更大；\n",
    "    \n",
    "<b> 约束条件 ： 自变量之间是非共线性的。 </b>\n",
    "    \n",
    "<center><img src='data/logistics.png' /> </center>\n",
    "\n"
   ]
  },
  {
   "cell_type": "code",
   "execution_count": 40,
   "metadata": {},
   "outputs": [],
   "source": [
    "#加载需要的包\n",
    "from sklearn.linear_model import LogisticRegression\n",
    "import os\n",
    "import pandas as pd\n",
    "import seaborn as sns\n",
    "import numpy as np\n",
    "import scipy\n",
    "from scipy import stats\n",
    "import statsmodels.api as sm"
   ]
  },
  {
   "cell_type": "markdown",
   "metadata": {},
   "source": [
    "# <b> 准备数据 </b>"
   ]
  },
  {
   "cell_type": "code",
   "execution_count": 41,
   "metadata": {},
   "outputs": [
    {
     "name": "stdout",
     "output_type": "stream",
     "text": [
      "['.ipynb_checkpoints', 'data', 'install.ipynb', '10. ROC分析.ipynb', '02 . 统计描述.ipynb', '01. 绪论.ipynb', '04. 两组数值变量比较的假设检验.ipynb', '05. 多组数值变量比较的假设检验.ipynb', '06. 有序变量比较的假设检验.ipynb', '07. 分类变量比较的假设检验.ipynb', '08. 相关性假设检验.ipynb', '03. 常规检验.ipynb', '09. 多元回归析.ipynb']\n"
     ]
    }
   ],
   "source": [
    "dir = \"./\"\n",
    "print(os.listdir(\"./\"))  # 确认路径正确"
   ]
  },
  {
   "cell_type": "code",
   "execution_count": 42,
   "metadata": {},
   "outputs": [
    {
     "data": {
      "text/html": [
       "<div>\n",
       "<style scoped>\n",
       "    .dataframe tbody tr th:only-of-type {\n",
       "        vertical-align: middle;\n",
       "    }\n",
       "\n",
       "    .dataframe tbody tr th {\n",
       "        vertical-align: top;\n",
       "    }\n",
       "\n",
       "    .dataframe thead th {\n",
       "        text-align: right;\n",
       "    }\n",
       "</style>\n",
       "<table border=\"1\" class=\"dataframe\">\n",
       "  <thead>\n",
       "    <tr style=\"text-align: right;\">\n",
       "      <th></th>\n",
       "      <th>年龄</th>\n",
       "      <th>性别</th>\n",
       "      <th>胸痛类型</th>\n",
       "      <th>静息血压</th>\n",
       "      <th>血浆类固醇含量（mg/dl）</th>\n",
       "      <th>空腹血糖&gt;120mg/dl</th>\n",
       "      <th>静息心电图结果</th>\n",
       "      <th>最高心率</th>\n",
       "      <th>运动型心绞痛</th>\n",
       "      <th>运动引起的ST下降</th>\n",
       "      <th>最大运动量时心电图ST的斜率</th>\n",
       "      <th>使用荧光染色法测定的主血管数</th>\n",
       "      <th>THAL</th>\n",
       "      <th>患病情况</th>\n",
       "    </tr>\n",
       "  </thead>\n",
       "  <tbody>\n",
       "    <tr>\n",
       "      <th>0</th>\n",
       "      <td>70</td>\n",
       "      <td>1</td>\n",
       "      <td>4</td>\n",
       "      <td>130</td>\n",
       "      <td>322</td>\n",
       "      <td>0</td>\n",
       "      <td>2</td>\n",
       "      <td>109</td>\n",
       "      <td>0</td>\n",
       "      <td>2.4</td>\n",
       "      <td>2</td>\n",
       "      <td>3</td>\n",
       "      <td>3</td>\n",
       "      <td>2</td>\n",
       "    </tr>\n",
       "    <tr>\n",
       "      <th>1</th>\n",
       "      <td>67</td>\n",
       "      <td>0</td>\n",
       "      <td>3</td>\n",
       "      <td>115</td>\n",
       "      <td>564</td>\n",
       "      <td>0</td>\n",
       "      <td>2</td>\n",
       "      <td>160</td>\n",
       "      <td>0</td>\n",
       "      <td>1.6</td>\n",
       "      <td>2</td>\n",
       "      <td>0</td>\n",
       "      <td>7</td>\n",
       "      <td>1</td>\n",
       "    </tr>\n",
       "    <tr>\n",
       "      <th>2</th>\n",
       "      <td>57</td>\n",
       "      <td>1</td>\n",
       "      <td>2</td>\n",
       "      <td>124</td>\n",
       "      <td>261</td>\n",
       "      <td>0</td>\n",
       "      <td>0</td>\n",
       "      <td>141</td>\n",
       "      <td>0</td>\n",
       "      <td>0.3</td>\n",
       "      <td>1</td>\n",
       "      <td>0</td>\n",
       "      <td>7</td>\n",
       "      <td>2</td>\n",
       "    </tr>\n",
       "    <tr>\n",
       "      <th>3</th>\n",
       "      <td>64</td>\n",
       "      <td>1</td>\n",
       "      <td>4</td>\n",
       "      <td>128</td>\n",
       "      <td>263</td>\n",
       "      <td>0</td>\n",
       "      <td>0</td>\n",
       "      <td>105</td>\n",
       "      <td>1</td>\n",
       "      <td>0.2</td>\n",
       "      <td>2</td>\n",
       "      <td>1</td>\n",
       "      <td>7</td>\n",
       "      <td>1</td>\n",
       "    </tr>\n",
       "    <tr>\n",
       "      <th>4</th>\n",
       "      <td>74</td>\n",
       "      <td>0</td>\n",
       "      <td>2</td>\n",
       "      <td>120</td>\n",
       "      <td>269</td>\n",
       "      <td>0</td>\n",
       "      <td>2</td>\n",
       "      <td>121</td>\n",
       "      <td>1</td>\n",
       "      <td>0.2</td>\n",
       "      <td>1</td>\n",
       "      <td>1</td>\n",
       "      <td>3</td>\n",
       "      <td>1</td>\n",
       "    </tr>\n",
       "  </tbody>\n",
       "</table>\n",
       "</div>"
      ],
      "text/plain": [
       "   年龄  性别  胸痛类型  静息血压  血浆类固醇含量（mg/dl）  空腹血糖>120mg/dl  静息心电图结果  最高心率  运动型心绞痛  \\\n",
       "0  70   1     4   130             322              0        2   109       0   \n",
       "1  67   0     3   115             564              0        2   160       0   \n",
       "2  57   1     2   124             261              0        0   141       0   \n",
       "3  64   1     4   128             263              0        0   105       1   \n",
       "4  74   0     2   120             269              0        2   121       1   \n",
       "\n",
       "   运动引起的ST下降  最大运动量时心电图ST的斜率  使用荧光染色法测定的主血管数  THAL  患病情况  \n",
       "0        2.4               2               3     3     2  \n",
       "1        1.6               2               0     7     1  \n",
       "2        0.3               1               0     7     2  \n",
       "3        0.2               2               1     7     1  \n",
       "4        0.2               1               1     3     1  "
      ]
     },
     "execution_count": 42,
     "metadata": {},
     "output_type": "execute_result"
    }
   ],
   "source": [
    "df = pd.read_csv(dir+\"data/心脏病诊断数据集（原数据）.csv\",header=None) #读取csv文件，没有列名\n",
    "df.columns = [\"年龄\",\"性别\",\"胸痛类型\",\"静息血压\",\"血浆类固醇含量（mg/dl）\",\"空腹血糖>120mg/dl\",\"静息心电图结果\",\"最高心率\",\"运动型心绞痛\",\"运动引起的ST下降\",\"最大运动量时心电图ST的斜率\",\"使用荧光染色法测定的主血管数\",\"THAL\",\"患病情况\"]                                                 #添加列名\n",
    "df.head(5)"
   ]
  },
  {
   "cell_type": "code",
   "execution_count": 43,
   "metadata": {},
   "outputs": [
    {
     "name": "stdout",
     "output_type": "stream",
     "text": [
      "               年龄          性别        胸痛类型        静息血压  血浆类固醇含量（mg/dl）  \\\n",
      "count  270.000000  270.000000  270.000000  270.000000      270.000000   \n",
      "mean    54.433333    0.677778    3.174074  131.344444      249.659259   \n",
      "std      9.109067    0.468195    0.950090   17.861608       51.686237   \n",
      "min     29.000000    0.000000    1.000000   94.000000      126.000000   \n",
      "25%     48.000000    0.000000    3.000000  120.000000      213.000000   \n",
      "50%     55.000000    1.000000    3.000000  130.000000      245.000000   \n",
      "75%     61.000000    1.000000    4.000000  140.000000      280.000000   \n",
      "max     77.000000    1.000000    4.000000  200.000000      564.000000   \n",
      "\n",
      "       空腹血糖>120mg/dl     静息心电图结果        最高心率      运动型心绞痛  运动引起的ST下降  \\\n",
      "count     270.000000  270.000000  270.000000  270.000000  270.00000   \n",
      "mean        0.148148    1.022222  149.677778    0.329630    1.05000   \n",
      "std         0.355906    0.997891   23.165717    0.470952    1.14521   \n",
      "min         0.000000    0.000000   71.000000    0.000000    0.00000   \n",
      "25%         0.000000    0.000000  133.000000    0.000000    0.00000   \n",
      "50%         0.000000    2.000000  153.500000    0.000000    0.80000   \n",
      "75%         0.000000    2.000000  166.000000    1.000000    1.60000   \n",
      "max         1.000000    2.000000  202.000000    1.000000    6.20000   \n",
      "\n",
      "       最大运动量时心电图ST的斜率  使用荧光染色法测定的主血管数        THAL        患病情况  \n",
      "count      270.000000      270.000000  270.000000  270.000000  \n",
      "mean         1.585185        0.670370    4.696296    1.444444  \n",
      "std          0.614390        0.943896    1.940659    0.497827  \n",
      "min          1.000000        0.000000    3.000000    1.000000  \n",
      "25%          1.000000        0.000000    3.000000    1.000000  \n",
      "50%          2.000000        0.000000    3.000000    1.000000  \n",
      "75%          2.000000        1.000000    7.000000    2.000000  \n",
      "max          3.000000        3.000000    7.000000    2.000000  \n",
      "年龄                 9.109067\n",
      "性别                 0.468195\n",
      "胸痛类型               0.950090\n",
      "静息血压              17.861608\n",
      "血浆类固醇含量（mg/dl）    51.686237\n",
      "空腹血糖>120mg/dl      0.355906\n",
      "静息心电图结果            0.997891\n",
      "最高心率              23.165717\n",
      "运动型心绞痛             0.470952\n",
      "运动引起的ST下降          1.145210\n",
      "最大运动量时心电图ST的斜率     0.614390\n",
      "使用荧光染色法测定的主血管数     0.943896\n",
      "THAL               1.940659\n",
      "患病情况               0.497827\n",
      "dtype: float64\n"
     ]
    }
   ],
   "source": [
    "print (df.describe())\n",
    "print (df.std())"
   ]
  },
  {
   "cell_type": "code",
   "execution_count": 44,
   "metadata": {},
   "outputs": [
    {
     "name": "stdout",
     "output_type": "stream",
     "text": [
      "[0 1]\n"
     ]
    }
   ],
   "source": [
    "df.患病情况 = df.患病情况-1   #将目标变量转变成0,1.否则会报错。 ValueError: endog must be in the unit interval.\n",
    "print (np.unique(df.患病情况))"
   ]
  },
  {
   "cell_type": "markdown",
   "metadata": {},
   "source": [
    "<b> 虚拟变量（dummy variables）</b>"
   ]
  },
  {
   "cell_type": "code",
   "execution_count": 45,
   "metadata": {},
   "outputs": [
    {
     "name": "stdout",
     "output_type": "stream",
     "text": [
      "   患病情况  年龄  静息血压  血浆类固醇含量（mg/dl）  最高心率  运动引起的ST下降  使用荧光染色法测定的主血管数  THAL  \\\n",
      "0     1  70   130             322   109        2.4               3     3   \n",
      "1     0  67   115             564   160        1.6               0     7   \n",
      "2     1  57   124             261   141        0.3               0     7   \n",
      "3     0  64   128             263   105        0.2               1     7   \n",
      "4     0  74   120             269   121        0.2               1     3   \n",
      "\n",
      "   性别_1  胸痛类型_2  胸痛类型_3  胸痛类型_4  空腹血糖>120mg/dl_1  静息心电图结果_1  静息心电图结果_2  \\\n",
      "0     1       0       0       1                0          0          1   \n",
      "1     0       0       1       0                0          0          1   \n",
      "2     1       1       0       0                0          0          0   \n",
      "3     1       0       0       1                0          0          0   \n",
      "4     0       1       0       0                0          0          1   \n",
      "\n",
      "   运动型心绞痛_1  最大运动量时心电图ST的斜率_2  最大运动量时心电图ST的斜率_3  \n",
      "0         0                 1                 0  \n",
      "1         0                 1                 0  \n",
      "2         0                 0                 0  \n",
      "3         1                 1                 0  \n",
      "4         1                 0                 0  \n"
     ]
    }
   ],
   "source": [
    "classfield =  ['性别',\"胸痛类型\",\"空腹血糖>120mg/dl\",\"静息心电图结果\",\"运动型心绞痛\",\"最大运动量时心电图ST的斜率\"] #现将分类变量转成字符型\n",
    "df[classfield] = df[classfield].astype(\"str\")   #将分类变量转成字符型\n",
    "dummys = df.filter(items = classfield)  \n",
    "dummy_ranks = pd.get_dummies(dummys , drop_first = True) # 变成哑变量，并且丢掉第一个分类\n",
    "cols_to_keep= [\"患病情况\",\"年龄\",\"静息血压\",\"血浆类固醇含量（mg/dl）\" ,\"最高心率\",\"运动引起的ST下降\",\"使用荧光染色法测定的主血管数\",\"THAL\"]\n",
    "data = df[cols_to_keep].join(dummy_ranks)     #将新的虚拟变量加入到原数据集中\n",
    "print (data.head())"
   ]
  },
  {
   "cell_type": "markdown",
   "metadata": {},
   "source": [
    "# <b>   训练模型  </b>"
   ]
  },
  {
   "cell_type": "code",
   "execution_count": 46,
   "metadata": {},
   "outputs": [
    {
     "name": "stdout",
     "output_type": "stream",
     "text": [
      "Index(['年龄', '静息血压', '血浆类固醇含量（mg/dl）', '最高心率', '运动引起的ST下降', '使用荧光染色法测定的主血管数',\n",
      "       'THAL', '性别_1', '胸痛类型_2', '胸痛类型_3', '胸痛类型_4', '空腹血糖>120mg/dl_1',\n",
      "       '静息心电图结果_1', '静息心电图结果_2', '运动型心绞痛_1', '最大运动量时心电图ST的斜率_2',\n",
      "       '最大运动量时心电图ST的斜率_3'],\n",
      "      dtype='object')\n",
      "Optimization terminated successfully.\n",
      "         Current function value: 0.330390\n",
      "         Iterations 7\n"
     ]
    }
   ],
   "source": [
    "train_cols = data.columns[1:]                        #自变量的列名\n",
    "print(train_cols)\n",
    "logit = sm.Logit(data['患病情况'], data[train_cols])  #模型\n",
    "result = logit.fit()                               #拟合"
   ]
  },
  {
   "cell_type": "markdown",
   "metadata": {},
   "source": [
    "# <b> 结果解释 </b>\n",
    "\n",
    "##  <b> 系数显著性水平 </b>\n",
    "\n",
    "H0 ： c == 0  H1 : c != 0  \n",
    "\n",
    "(c为变量系数，当推断c为零时，则在统计意义上变是不是影响因素，c不为零，则是影响因素）\n",
    "\n",
    "Z检验（Z Test）是一般用于大样本（即样本容量大于30）平均值差异性检验的方法。它是用标准正态分布的理论来推断差异发生的概率，从而比较两个平均数的差异是否显著。在国内也被称作u检验。\n",
    "当已知标准差时，验证一组数的均值是否与某一期望值相等时，用Z检验。\n"
   ]
  },
  {
   "cell_type": "code",
   "execution_count": 51,
   "metadata": {},
   "outputs": [
    {
     "name": "stdout",
     "output_type": "stream",
     "text": [
      "                           Logit Regression Results                           \n",
      "==============================================================================\n",
      "Dep. Variable:                   患病情况   No. Observations:                  270\n",
      "Model:                          Logit   Df Residuals:                      253\n",
      "Method:                           MLE   Df Model:                           16\n",
      "Date:                Fri, 21 Jun 2019   Pseudo R-squ.:                  0.5191\n",
      "Time:                        09:33:21   Log-Likelihood:                -89.205\n",
      "converged:                       True   LL-Null:                       -185.48\n",
      "                                        LLR p-value:                 2.530e-32\n",
      "====================================================================================\n",
      "                       coef    std err          z      P>|z|      [0.025      0.975]\n",
      "------------------------------------------------------------------------------------\n",
      "年龄                  -0.0534      0.022     -2.390      0.017      -0.097      -0.010\n",
      "静息血压                 0.0139      0.011      1.295      0.195      -0.007       0.035\n",
      "血浆类固醇含量（mg/dl）       0.0054      0.004      1.290      0.197      -0.003       0.014\n",
      "最高心率                -0.0368      0.009     -4.193      0.000      -0.054      -0.020\n",
      "运动引起的ST下降            0.4144      0.238      1.743      0.081      -0.052       0.880\n",
      "使用荧光染色法测定的主血管数       1.1589      0.269      4.314      0.000       0.632       1.685\n",
      "THAL                 0.3309      0.111      2.993      0.003       0.114       0.547\n",
      "性别_1                 1.2205      0.514      2.375      0.018       0.213       2.228\n",
      "胸痛类型_2               0.5924      0.800      0.741      0.459      -0.975       2.160\n",
      "胸痛类型_3              -0.0854      0.671     -0.127      0.899      -1.401       1.230\n",
      "胸痛类型_4               1.5524      0.651      2.383      0.017       0.276       2.829\n",
      "空腹血糖>120mg/dl_1     -0.2667      0.587     -0.454      0.650      -1.418       0.884\n",
      "静息心电图结果_1            0.6551      3.044      0.215      0.830      -5.311       6.621\n",
      "静息心电图结果_2            0.5799      0.403      1.439      0.150      -0.210       1.370\n",
      "运动型心绞痛_1             0.5382      0.445      1.209      0.227      -0.334       1.411\n",
      "最大运动量时心电图ST的斜率_2     0.5639      0.465      1.212      0.225      -0.348       1.475\n",
      "最大运动量时心电图ST的斜率_3    -0.0432      0.977     -0.044      0.965      -1.959       1.872\n",
      "====================================================================================\n"
     ]
    }
   ],
   "source": [
    "print (result.summary())\n",
    "# 查看每个系数的置信区间：\n",
    "# print (result.conf_int())  "
   ]
  },
  {
   "cell_type": "markdown",
   "metadata": {},
   "source": [
    "从上面来看THAL（p = 0.003 ）是患病的危险因子。\n",
    "\n",
    "## <b>  相对危险度（odds ratio）</b>\n",
    "\n",
    "使用每个变量系数的指数来生成odds ratio，可知变量每单位的增加、减少对患病几率的影响。"
   ]
  },
  {
   "cell_type": "code",
   "execution_count": 54,
   "metadata": {},
   "outputs": [
    {
     "name": "stdout",
     "output_type": "stream",
     "text": [
      "年龄                  0.948043\n",
      "静息血压                1.013985\n",
      "血浆类固醇含量（mg/dl）      1.005402\n",
      "最高心率                0.963884\n",
      "运动引起的ST下降           1.513411\n",
      "使用荧光染色法测定的主血管数      3.186369\n",
      "THAL                1.392165\n",
      "性别_1                3.388964\n",
      "胸痛类型_2              1.808351\n",
      "胸痛类型_3              0.918175\n",
      "胸痛类型_4              4.722888\n",
      "空腹血糖>120mg/dl_1     0.765932\n",
      "静息心电图结果_1           1.925363\n",
      "静息心电图结果_2           1.785838\n",
      "运动型心绞痛_1            1.713001\n",
      "最大运动量时心电图ST的斜率_2    1.757476\n",
      "最大运动量时心电图ST的斜率_3    0.957739\n",
      "dtype: float64\n"
     ]
    }
   ],
   "source": [
    "print(np.exp(result.params))"
   ]
  },
  {
   "cell_type": "markdown",
   "metadata": {},
   "source": [
    "从结果来看性别_1风险比较高，即男性比女性更容易患病。\n",
    "\n",
    "我们也可以使用置信区间来计算系数的影响，来更好地估计一个变量影响患病几率的不确定性。"
   ]
  },
  {
   "cell_type": "code",
   "execution_count": 57,
   "metadata": {},
   "outputs": [
    {
     "name": "stdout",
     "output_type": "stream",
     "text": [
      "                      2.5%       97.5%        OR\n",
      "年龄                0.907461    0.990441  0.948043\n",
      "静息血压              0.992895    1.035522  1.013985\n",
      "血浆类固醇含量（mg/dl）    0.997203    1.013669  1.005402\n",
      "最高心率              0.947451    0.980602  0.963884\n",
      "运动引起的ST下降         0.949660    2.411823  1.513411\n",
      "使用荧光染色法测定的主血管数    1.882174    5.394266  3.186369\n",
      "THAL              1.121013    1.728904  1.392165\n",
      "性别_1              1.237709    9.279302  3.388964\n",
      "胸痛类型_2            0.377088    8.672073  1.808351\n",
      "胸痛类型_3            0.246459    3.420637  0.918175\n",
      "胸痛类型_4            1.317213   16.933996  4.722888\n",
      "空腹血糖>120mg/dl_1   0.242252    2.421659  0.765932\n",
      "静息心电图结果_1         0.004936  751.037306  1.925363\n",
      "静息心电图结果_2         0.810767    3.933580  1.785838\n",
      "运动型心绞痛_1          0.715852    4.099129  1.713001\n",
      "最大运动量时心电图ST的斜率_2  0.706296    4.373132  1.757476\n",
      "最大运动量时心电图ST的斜率_3  0.141051    6.503060  0.957739\n"
     ]
    }
   ],
   "source": [
    "# odds ratios and 95% CI\n",
    "params = result.params\n",
    "conf = result.conf_int()\n",
    "conf['OR'] = params\n",
    "conf.columns = ['2.5%', '97.5%', 'OR']\n",
    "print (np.exp(conf))"
   ]
  },
  {
   "cell_type": "markdown",
   "metadata": {},
   "source": [
    "# <b> 预测数据 </b>\n",
    "\n",
    "可见参考页面：http://dblab.xmu.edu.cn/blog/logistic-regression-in-python/\n"
   ]
  },
  {
   "cell_type": "code",
   "execution_count": null,
   "metadata": {},
   "outputs": [],
   "source": []
  }
 ],
 "metadata": {
  "kernelspec": {
   "display_name": "Python 3",
   "language": "python",
   "name": "python3"
  },
  "language_info": {
   "codemirror_mode": {
    "name": "ipython",
    "version": 3
   },
   "file_extension": ".py",
   "mimetype": "text/x-python",
   "name": "python",
   "nbconvert_exporter": "python",
   "pygments_lexer": "ipython3",
   "version": "3.6.4"
  }
 },
 "nbformat": 4,
 "nbformat_minor": 2
}
