{
 "cells": [
  {
   "cell_type": "markdown",
   "metadata": {},
   "source": [
    "# <b> 1 . 课程目的 </b>\n",
    "\n",
    "通过该课程的学习可增强学员python医学分析实操能力和达成SCI等杂志对医学论文的分析要求：\n",
    "\n",
    "1. SCI 杂志对连续变量、分类变量、等级资料的描述要求:均值、标准差、标准误、四分位间距等。（第二章统计描述）\n",
    "\n",
    "2. 讲解独立样本 t 检验、配对样本 t 检验的区别；（第四章）\n",
    "\n",
    "3. 配对 Wilcoxon 检验；Mann-Whiney U 检验（第四章）；如何判断数据是否正态分布；方差齐性检验。（第三章常规检验）\n",
    "\n",
    "4. 讲解单因素方差分析；Kruskal-Wallis H 检验；组间比较；重复测量资料的比较。（第五章）\n",
    "\n",
    "5. 卡方检验；Fisher 确切概率法（第六章）；双向有序、单向有序资料的处理；双向有序属性相同资料的处理；（第七章）\n",
    "\n",
    "6. 相关和回归的区别。（第七章和第八章）\n",
    "\n",
    "7. 诊断试验的设计要点；ROC 分析的原理；ROC 分析的结果解读；如何在软件中绘制 ROC 曲线；如何进行联合诊断 (SPSS/MedCalc)。（第九章）\n",
    "\n",
    "8. logistic回归\n",
    "\n",
    "<b> 参考网址 </b>\n",
    "\n",
    "代码参考网址：https://pythonhealthcare.org/    （医疗python）\n",
    "\n",
    "其他课程参考：http://dblab.xmu.edu.cn/blog/   （厦门大学数据库实验室）\n",
    "\n",
    "生物信息学： https://www.jianshu.com/p/d198d39dd51f （python从零开始第五章生物信息学）\n",
    "\n",
    "\n",
    "<b>课程延伸：</b>\n",
    "\n",
    "1. cox 回归模型\n",
    "\n",
    "2. 倾向性匹配得分的概念和python实现\n",
    "\n",
    "    https://github.com/kellieotto/pscore_match\n",
    "        （https://www.jianshu.com/p/34dd19ebe475）\n",
    "\n",
    "3. 生存分析基本概念及python实现\n",
    "\n",
    "    https://github.com/CamDavidsonPilon/lifelines\n",
    "    https://github.com/chrisluedtke/data-science-journal/blob/master/07-Advanced-Regression/02_Survival_Analysis.ipynb\n",
    "     https://www.jianshu.com/p/d198d39dd51f \n"
   ]
  },
  {
   "cell_type": "markdown",
   "metadata": {},
   "source": []
  },
  {
   "cell_type": "markdown",
   "metadata": {},
   "source": [
    "# <b>2. 课程大纲 </b>"
   ]
  },
  {
   "cell_type": "markdown",
   "metadata": {},
   "source": [
    "<b> 绪论 </b>\n",
    "\n",
    "<b>第二章 统计描述</b>\n",
    "\n",
    "<b>第三章 常规检验</b>\n",
    "\n",
    "<b>第四章 两组数值变量比较的假设检验</b>\n",
    "\n",
    "<b>第五章 多组数值变量比较的假设检验</b>\n",
    "\n",
    "<b>第六章 有序变量比较的假设检验</b>\n",
    "\n",
    "<b>第七章 分类变量比较的假设检验</b>\n",
    "\n",
    "<b>第八章 相关性假设检验</b>\n",
    "\n",
    "<b>第九章 多元回归分析</b>\n",
    "\n",
    "<b>第十章 诊断试验</b>"
   ]
  },
  {
   "cell_type": "markdown",
   "metadata": {},
   "source": [
    "# <b>3. 样例数据</b>\n",
    "\n",
    "后续教程尽量使用了该数据，除个别教程需要其他数据进行演练。\n",
    "\n",
    "根据WHO统计，世界上每年有近1700万人死于心血管疾病，如何快速、有效地对心脏病进行诊断始终是生命科学领域研究的重点问题之一，随着机器学习技术的兴起，其在医疗领域的应用已经越来越广泛，2018年全球人工智能应用大赛（南京）设置了智能医疗项目，其中就包含了“实时监测心血管疾病的智能算法”。本数据集包含了来自克利夫兰医学中心的270个病人实例数据，我们将这个数据集作为教学样本数据。"
   ]
  },
  {
   "cell_type": "markdown",
   "metadata": {},
   "source": [
    "<center><img src='data/心脏病.png' /> </center>"
   ]
  },
  {
   "cell_type": "markdown",
   "metadata": {},
   "source": [
    "<b>因变量：</b>\n",
    "\n",
    "    分类变量 : 患病情况\n",
    "    \n",
    "<b>自变量：</b>\n",
    "\n",
    "    连续变量: 年龄、静息血压、血浆类固醇含量（mg/dl）、最高心率、运动引起的ST下降、使用荧光染色法测定的主血管数；\n",
    "    \n",
    "    分类变量 : 性别、胸痛类型、空腹血糖>120mg/dl、静息心电图结果、运动型心绞痛、最大运动量时心电图ST的斜率、THAL；\n"
   ]
  },
  {
   "cell_type": "markdown",
   "metadata": {},
   "source": [
    "# <b> 4. 一般思路 </b>\n",
    "\n",
    "    1) 统计描述\n",
    "    \n",
    "         - 数据类型；\n",
    "         - 数据缺失；\n",
    "         - 数据可视化；\n",
    "         - 常规检验。\n",
    "         \n",
    "    2）统计推断\n",
    "       \n",
    "        - 提出假设：H0 : ......   H1: .....；\n",
    "        - 前置检验；\n",
    "        - 计算检验的统计量、p值；\n",
    "        - 确定显著性水平α，并作出决策。"
   ]
  },
  {
   "cell_type": "code",
   "execution_count": null,
   "metadata": {},
   "outputs": [],
   "source": []
  }
 ],
 "metadata": {
  "kernelspec": {
   "display_name": "Python 3",
   "language": "python",
   "name": "python3"
  },
  "language_info": {
   "codemirror_mode": {
    "name": "ipython",
    "version": 3
   },
   "file_extension": ".py",
   "mimetype": "text/x-python",
   "name": "python",
   "nbconvert_exporter": "python",
   "pygments_lexer": "ipython3",
   "version": "3.7.1"
  }
 },
 "nbformat": 4,
 "nbformat_minor": 2
}
