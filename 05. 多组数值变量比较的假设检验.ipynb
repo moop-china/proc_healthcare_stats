{
 "cells": [
  {
   "cell_type": "markdown",
   "metadata": {},
   "source": [
    "\n",
    "# <b>  参数检验 </b>\n",
    "参数检验要求数据满足方差齐性和正态分布；"
   ]
  },
  {
   "cell_type": "markdown",
   "metadata": {},
   "source": [
    "##  ANOVA\n",
    "\n",
    "Anova：单方差分析\n",
    "\n",
    "H0 ： 多组数据来自同一分布（均值相同）   H1：多组数据不是来自同一分布（至少一组均值不同）\n",
    "\n",
    "当p值大于α，接受H0；p值小于α ，不能接受H0"
   ]
  },
  {
   "cell_type": "code",
   "execution_count": 7,
   "metadata": {},
   "outputs": [
    {
     "name": "stdout",
     "output_type": "stream",
     "text": [
      "P value:\n",
      "1.9305265713143341e-10\n"
     ]
    }
   ],
   "source": [
    "import pandas as pd\n",
    "import numpy as np\n",
    "import scipy.stats as stats\n",
    "from statsmodels.stats.multicomp import (pairwise_tukeyhsd,\n",
    "                                         MultiComparison)\n",
    "\n",
    "# Create four random groups of data with a mean difference of 1\n",
    "\n",
    "mu, sigma = 10, 3 # mean and standard deviation\n",
    "group1 = np.random.normal(mu, sigma, 50)\n",
    "\n",
    "mu, sigma = 11, 3 # mean and standard deviation\n",
    "group2 = np.random.normal(mu, sigma, 50)\n",
    "\n",
    "mu, sigma = 12, 3 # mean and standard deviation\n",
    "group3 = np.random.normal(mu, sigma, 50)\n",
    "\n",
    "mu, sigma = 13, 3 # mean and standard deviation\n",
    "group4 = np.random.normal(mu, sigma, 50)\n",
    "\n",
    "# Show the results for Anova\n",
    "\n",
    "F_statistic, pVal = stats.f_oneway(group1, group2, group3, group4)\n",
    "\n",
    "print ('P value:')\n",
    "print (pVal)"
   ]
  },
  {
   "cell_type": "markdown",
   "metadata": {},
   "source": [
    "P等于10^10，不能接受H0，即多组数据中至少有一组数据的均值与其他组不相同。下面将学习Tukey's和Holm-Bonferroni检验方法两两比较检验。\n",
    "##  Tukey’s  test\n",
    "\n",
    "See https://en.wikipedia.org/wiki/Tukey’s_range_test\n",
    "\n",
    "H0 ： group1_mean - group2_mean = 0      H1 : group1_mean - group2_mean != 0\n",
    "\n",
    "当p值大于α，接受H0；p值小于α ，不能接受H0"
   ]
  },
  {
   "cell_type": "code",
   "execution_count": 8,
   "metadata": {},
   "outputs": [
    {
     "name": "stdout",
     "output_type": "stream",
     "text": [
      "   id   treatment     result\n",
      "0   0  treatment1  11.543098\n",
      "1   0  treatment2  12.759410\n",
      "2   0  treatment3  17.083981\n",
      "3   0  treatment4  12.117404\n",
      "4   1  treatment1   8.476924\n",
      "5   1  treatment2  11.067406\n",
      "6   1  treatment3  13.800480\n",
      "7   1  treatment4  10.641495\n"
     ]
    }
   ],
   "source": [
    "df = pd.DataFrame()\n",
    "df['treatment1'] = group1\n",
    "df['treatment2'] = group2\n",
    "df['treatment3'] = group3\n",
    "df['treatment4'] = group4\n",
    "\n",
    "# Stack the data (and rename columns):\n",
    "\n",
    "stacked_data = df.stack().reset_index()\n",
    "stacked_data = stacked_data.rename(columns={'level_0': 'id',\n",
    "                                            'level_1': 'treatment',\n",
    "                                            0:'result'})\n",
    "# Show the first 8 rows:\n",
    "\n",
    "print (stacked_data.head(8))"
   ]
  },
  {
   "cell_type": "code",
   "execution_count": 10,
   "metadata": {},
   "outputs": [
    {
     "name": "stdout",
     "output_type": "stream",
     "text": [
      " Multiple Comparison of Means - Tukey HSD,FWER=0.05 \n",
      "====================================================\n",
      "  group1     group2   meandiff  lower  upper  reject\n",
      "----------------------------------------------------\n",
      "treatment1 treatment2  1.6106   0.0842 3.137   True \n",
      "treatment1 treatment3  2.1447   0.6182 3.6711  True \n",
      "treatment1 treatment4  4.2982   2.7718 5.8246  True \n",
      "treatment2 treatment3  0.534   -0.9924 2.0605 False \n",
      "treatment2 treatment4  2.6876   1.1611 4.214   True \n",
      "treatment3 treatment4  2.1535   0.6271 3.6799  True \n",
      "----------------------------------------------------\n"
     ]
    }
   ],
   "source": [
    "# Set up the data for comparison (creates a specialised object)\n",
    "MultiComp = MultiComparison(stacked_data['result'],\n",
    "                            stacked_data['treatment'])\n",
    "\n",
    "# Show all pair-wise comparisons:\n",
    "\n",
    "# Print the comparisons\n",
    "\n",
    "print(MultiComp.tukeyhsd().summary())"
   ]
  },
  {
   "cell_type": "markdown",
   "metadata": {},
   "source": [
    "     meandiff :两组均值差\n",
    "     lower ： 置信区间下限\n",
    "     upper :  置信区间上限\n",
    "     reject ： 是否接受H0 ，即meandiff是否处于置信区间上下限内，True表示接受H0，False表示无法接受H0\n",
    "\n",
    "## Holm-Bonferroni Method\n",
    "\n",
    "See: https://en.wikipedia.org/wiki/Holm%E2%80%93Bonferroni_method\n",
    "\n",
    "和Tukey’s检验方法等同。"
   ]
  },
  {
   "cell_type": "code",
   "execution_count": 11,
   "metadata": {},
   "outputs": [
    {
     "name": "stdout",
     "output_type": "stream",
     "text": [
      "Test Multiple Comparison ttest_rel \n",
      "FWER=0.05 method=Holm\n",
      "alphacSidak=0.01, alphacBonf=0.008\n",
      "=====================================================\n",
      "  group1     group2     stat   pval  pval_corr reject\n",
      "-----------------------------------------------------\n",
      "treatment1 treatment2 -2.5166 0.0152   0.0303   True \n",
      "treatment1 treatment3 -3.9663 0.0002   0.001    True \n",
      "treatment1 treatment4 -7.6241  0.0      0.0     True \n",
      "treatment2 treatment3 -0.8519 0.3984   0.3984  False \n",
      "treatment2 treatment4 -4.8897  0.0     0.0001   True \n",
      "treatment3 treatment4 -3.4572 0.0011   0.0034   True \n",
      "-----------------------------------------------------\n"
     ]
    }
   ],
   "source": [
    "comp = MultiComp.allpairtest(stats.ttest_rel, method='Holm')\n",
    "print (comp[0])"
   ]
  },
  {
   "cell_type": "markdown",
   "metadata": {},
   "source": [
    "# <b> 非参数检验 </b>\n",
    "Kruskal-Wallace:用于对非正态分布的数据的检验。假设推断和ANOVA 检验相同：\n",
    "    \n",
    "    H0 ： 多组数据来自同一分布（均值相同）   H1：多组数据不是来自同一分布（至少一组均值不同）\n",
    "\n",
    "当p值大于α，接受H0；p值小于α ，不能接受H0\n",
    "    "
   ]
  },
  {
   "cell_type": "code",
   "execution_count": 14,
   "metadata": {},
   "outputs": [
    {
     "name": "stdout",
     "output_type": "stream",
     "text": [
      "P value of there being a signficant difference:\n",
      "8.938032905604823e-09\n"
     ]
    }
   ],
   "source": [
    "h, p = stats.kruskal(group1, group2, group3, group4)\n",
    "\n",
    "print ('P value of there being a signficant difference:')\n",
    "print (p)"
   ]
  },
  {
   "cell_type": "code",
   "execution_count": null,
   "metadata": {},
   "outputs": [],
   "source": []
  }
 ],
 "metadata": {
  "kernelspec": {
   "display_name": "Python 3",
   "language": "python",
   "name": "python3"
  },
  "language_info": {
   "codemirror_mode": {
    "name": "ipython",
    "version": 3
   },
   "file_extension": ".py",
   "mimetype": "text/x-python",
   "name": "python",
   "nbconvert_exporter": "python",
   "pygments_lexer": "ipython3",
   "version": "3.6.4"
  }
 },
 "nbformat": 4,
 "nbformat_minor": 2
}
