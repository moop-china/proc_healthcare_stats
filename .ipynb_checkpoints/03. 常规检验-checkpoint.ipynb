{
 "cells": [
  {
   "cell_type": "markdown",
   "metadata": {},
   "source": [
    "<b>建议：做统计推断前，先对数据的分布（包括正态）、方差等做一些基础的检验，有利于进一步选择合适的统计推断方法。</b>"
   ]
  },
  {
   "cell_type": "code",
   "execution_count": 17,
   "metadata": {},
   "outputs": [
    {
     "name": "stdout",
     "output_type": "stream",
     "text": [
      "['.ipynb_checkpoints', '2.统计描述.ipynb', '1.绪论.ipynb', 'data', 'install.ipynb', '5.多组数值变量比较的假设检验.ipynb', '4.两组数值变量比较的假设检验.ipynb', '6.分类变量比较的假设检验.ipynb', '3.前置检验.ipynb']\n"
     ]
    }
   ],
   "source": [
    "import os\n",
    "import pandas as pd\n",
    "import seaborn as sns\n",
    "import numpy as np\n",
    "import scipy\n",
    "from scipy import stats\n",
    "from sklearn.preprocessing import StandardScaler\n",
    "from sklearn import datasets\n",
    "import statsmodels.stats.proportion as smp\n",
    "import matplotlib.pyplot as plt\n",
    "%matplotlib inline\n",
    "import warnings\n",
    "warnings.filterwarnings(\"ignore\")\n",
    "\n",
    "dir = \"../../teaching/医学统计实操/\"\n",
    "print(os.listdir(\"../../teaching/医学统计实操/\"))  # 确认路径正确"
   ]
  },
  {
   "cell_type": "code",
   "execution_count": 3,
   "metadata": {},
   "outputs": [
    {
     "data": {
      "text/html": [
       "<div>\n",
       "<style scoped>\n",
       "    .dataframe tbody tr th:only-of-type {\n",
       "        vertical-align: middle;\n",
       "    }\n",
       "\n",
       "    .dataframe tbody tr th {\n",
       "        vertical-align: top;\n",
       "    }\n",
       "\n",
       "    .dataframe thead th {\n",
       "        text-align: right;\n",
       "    }\n",
       "</style>\n",
       "<table border=\"1\" class=\"dataframe\">\n",
       "  <thead>\n",
       "    <tr style=\"text-align: right;\">\n",
       "      <th></th>\n",
       "      <th>年龄</th>\n",
       "      <th>性别</th>\n",
       "      <th>胸痛类型</th>\n",
       "      <th>静息血压</th>\n",
       "      <th>血浆类固醇含量（mg/dl）</th>\n",
       "      <th>空腹血糖&gt;120mg/dl</th>\n",
       "      <th>静息心电图结果</th>\n",
       "      <th>最高心率</th>\n",
       "      <th>运动型心绞痛</th>\n",
       "      <th>运动引起的ST下降</th>\n",
       "      <th>最大运动量时心电图ST的斜率</th>\n",
       "      <th>使用荧光染色法测定的主血管数</th>\n",
       "      <th>THAL</th>\n",
       "      <th>患病情况</th>\n",
       "    </tr>\n",
       "  </thead>\n",
       "  <tbody>\n",
       "    <tr>\n",
       "      <th>0</th>\n",
       "      <td>70</td>\n",
       "      <td>1</td>\n",
       "      <td>4</td>\n",
       "      <td>130</td>\n",
       "      <td>322</td>\n",
       "      <td>0</td>\n",
       "      <td>2</td>\n",
       "      <td>109</td>\n",
       "      <td>0</td>\n",
       "      <td>2.4</td>\n",
       "      <td>2</td>\n",
       "      <td>3</td>\n",
       "      <td>3</td>\n",
       "      <td>2</td>\n",
       "    </tr>\n",
       "    <tr>\n",
       "      <th>1</th>\n",
       "      <td>67</td>\n",
       "      <td>0</td>\n",
       "      <td>3</td>\n",
       "      <td>115</td>\n",
       "      <td>564</td>\n",
       "      <td>0</td>\n",
       "      <td>2</td>\n",
       "      <td>160</td>\n",
       "      <td>0</td>\n",
       "      <td>1.6</td>\n",
       "      <td>2</td>\n",
       "      <td>0</td>\n",
       "      <td>7</td>\n",
       "      <td>1</td>\n",
       "    </tr>\n",
       "    <tr>\n",
       "      <th>2</th>\n",
       "      <td>57</td>\n",
       "      <td>1</td>\n",
       "      <td>2</td>\n",
       "      <td>124</td>\n",
       "      <td>261</td>\n",
       "      <td>0</td>\n",
       "      <td>0</td>\n",
       "      <td>141</td>\n",
       "      <td>0</td>\n",
       "      <td>0.3</td>\n",
       "      <td>1</td>\n",
       "      <td>0</td>\n",
       "      <td>7</td>\n",
       "      <td>2</td>\n",
       "    </tr>\n",
       "    <tr>\n",
       "      <th>3</th>\n",
       "      <td>64</td>\n",
       "      <td>1</td>\n",
       "      <td>4</td>\n",
       "      <td>128</td>\n",
       "      <td>263</td>\n",
       "      <td>0</td>\n",
       "      <td>0</td>\n",
       "      <td>105</td>\n",
       "      <td>1</td>\n",
       "      <td>0.2</td>\n",
       "      <td>2</td>\n",
       "      <td>1</td>\n",
       "      <td>7</td>\n",
       "      <td>1</td>\n",
       "    </tr>\n",
       "    <tr>\n",
       "      <th>4</th>\n",
       "      <td>74</td>\n",
       "      <td>0</td>\n",
       "      <td>2</td>\n",
       "      <td>120</td>\n",
       "      <td>269</td>\n",
       "      <td>0</td>\n",
       "      <td>2</td>\n",
       "      <td>121</td>\n",
       "      <td>1</td>\n",
       "      <td>0.2</td>\n",
       "      <td>1</td>\n",
       "      <td>1</td>\n",
       "      <td>3</td>\n",
       "      <td>1</td>\n",
       "    </tr>\n",
       "  </tbody>\n",
       "</table>\n",
       "</div>"
      ],
      "text/plain": [
       "   年龄  性别  胸痛类型  静息血压  血浆类固醇含量（mg/dl）  空腹血糖>120mg/dl  静息心电图结果  最高心率  运动型心绞痛  \\\n",
       "0  70   1     4   130             322              0        2   109       0   \n",
       "1  67   0     3   115             564              0        2   160       0   \n",
       "2  57   1     2   124             261              0        0   141       0   \n",
       "3  64   1     4   128             263              0        0   105       1   \n",
       "4  74   0     2   120             269              0        2   121       1   \n",
       "\n",
       "   运动引起的ST下降  最大运动量时心电图ST的斜率  使用荧光染色法测定的主血管数  THAL  患病情况  \n",
       "0        2.4               2               3     3     2  \n",
       "1        1.6               2               0     7     1  \n",
       "2        0.3               1               0     7     2  \n",
       "3        0.2               2               1     7     1  \n",
       "4        0.2               1               1     3     1  "
      ]
     },
     "execution_count": 3,
     "metadata": {},
     "output_type": "execute_result"
    }
   ],
   "source": [
    "df = pd.read_csv(dir+\"data/心脏病诊断数据集（原数据）.csv\",header=None) #读取csv文件，没有列名\n",
    "df.columns = [\"年龄\",\"性别\",\"胸痛类型\",\"静息血压\",\"血浆类固醇含量（mg/dl）\",\"空腹血糖>120mg/dl\",\"静息心电图结果\",\"最高心率\",\"运动型心绞痛\",\"运动引起的ST下降\",\"最大运动量时心电图ST的斜率\",\"使用荧光染色法测定的主血管数\",\"THAL\",\"患病情况\"]                                                 #添加列名\n",
    "df.head(5)"
   ]
  },
  {
   "cell_type": "markdown",
   "metadata": {},
   "source": [
    "# <b>1.正态性和方差齐性检验</b>\n",
    "\n",
    "正态性检验： H0 ： x是正态分布     H1 ：X非正态分布  （X数组）\n",
    "当p值大于α，接受H0；p值小于α ，不能接受H0\n",
    "\n",
    "方差齐性检验： H0 ： V1=V2   H2 ：V1 ！= V2      （方差）\n",
    "当p值大于α，接受H0；p值小于α ，不能接受H0"
   ]
  },
  {
   "cell_type": "code",
   "execution_count": 7,
   "metadata": {},
   "outputs": [
    {
     "data": {
      "text/plain": [
       "KstestResult(statistic=1.0, pvalue=0.0)"
      ]
     },
     "execution_count": 7,
     "metadata": {},
     "output_type": "execute_result"
    }
   ],
   "source": [
    "stats.kstest(df.年龄,'norm')   #正态性检验"
   ]
  },
  {
   "cell_type": "code",
   "execution_count": 14,
   "metadata": {},
   "outputs": [
    {
     "data": {
      "text/plain": [
       "LeveneResult(statistic=0.0, pvalue=1.0)"
      ]
     },
     "execution_count": 14,
     "metadata": {},
     "output_type": "execute_result"
    }
   ],
   "source": [
    "female_hb = df[df[\"性别\"] == 0][\"空腹血糖>120mg/dl\"]\n",
    "male_hb = df[df[\"性别\"] == 1][\"空腹血糖>120mg/dl\"]\n",
    "stats.levene(female_hb,female_hb)    #方差齐性"
   ]
  },
  {
   "cell_type": "code",
   "execution_count": null,
   "metadata": {},
   "outputs": [],
   "source": []
  },
  {
   "cell_type": "markdown",
   "metadata": {},
   "source": [
    "#  <b>2. 批量分布检验</b>"
   ]
  },
  {
   "cell_type": "code",
   "execution_count": 32,
   "metadata": {},
   "outputs": [
    {
     "data": {
      "image/png": "[encoded data removed]",
      "text/plain": [
       "<Figure size 432x288 with 1 Axes>"
      ]
     },
     "metadata": {
      "needs_background": "light"
     },
     "output_type": "display_data"
    }
   ],
   "source": [
    "data_set = datasets.load_breast_cancer()   #乳腺癌数据集\n",
    "y=data_set.data[:,0]\n",
    "x = np.arange(len(y))   #序号\n",
    "size = len(y)\n",
    "plt.hist(y)\n",
    "plt.show()"
   ]
  },
  {
   "cell_type": "code",
   "execution_count": 33,
   "metadata": {},
   "outputs": [
    {
     "data": {
      "text/html": [
       "<div>\n",
       "<style scoped>\n",
       "    .dataframe tbody tr th:only-of-type {\n",
       "        vertical-align: middle;\n",
       "    }\n",
       "\n",
       "    .dataframe tbody tr th {\n",
       "        vertical-align: top;\n",
       "    }\n",
       "\n",
       "    .dataframe thead th {\n",
       "        text-align: right;\n",
       "    }\n",
       "</style>\n",
       "<table border=\"1\" class=\"dataframe\">\n",
       "  <thead>\n",
       "    <tr style=\"text-align: right;\">\n",
       "      <th></th>\n",
       "      <th>Data</th>\n",
       "    </tr>\n",
       "  </thead>\n",
       "  <tbody>\n",
       "    <tr>\n",
       "      <th>count</th>\n",
       "      <td>569.000000</td>\n",
       "    </tr>\n",
       "    <tr>\n",
       "      <th>mean</th>\n",
       "      <td>14.127292</td>\n",
       "    </tr>\n",
       "    <tr>\n",
       "      <th>std</th>\n",
       "      <td>3.524049</td>\n",
       "    </tr>\n",
       "    <tr>\n",
       "      <th>min</th>\n",
       "      <td>6.981000</td>\n",
       "    </tr>\n",
       "    <tr>\n",
       "      <th>25%</th>\n",
       "      <td>11.700000</td>\n",
       "    </tr>\n",
       "    <tr>\n",
       "      <th>50%</th>\n",
       "      <td>13.370000</td>\n",
       "    </tr>\n",
       "    <tr>\n",
       "      <th>75%</th>\n",
       "      <td>15.780000</td>\n",
       "    </tr>\n",
       "    <tr>\n",
       "      <th>max</th>\n",
       "      <td>28.110000</td>\n",
       "    </tr>\n",
       "  </tbody>\n",
       "</table>\n",
       "</div>"
      ],
      "text/plain": [
       "             Data\n",
       "count  569.000000\n",
       "mean    14.127292\n",
       "std      3.524049\n",
       "min      6.981000\n",
       "25%     11.700000\n",
       "50%     13.370000\n",
       "75%     15.780000\n",
       "max     28.110000"
      ]
     },
     "execution_count": 33,
     "metadata": {},
     "output_type": "execute_result"
    }
   ],
   "source": [
    "y_df = pd.DataFrame(y, columns=['Data'])  #转成数据框格式，方便使用pandas方法\n",
    "y_df.describe()"
   ]
  },
  {
   "cell_type": "code",
   "execution_count": 34,
   "metadata": {},
   "outputs": [],
   "source": [
    "sc=StandardScaler()   #标准化\n",
    "yy = y.reshape (-1,1)\n",
    "sc.fit(yy)\n",
    "y_std =sc.transform(yy)  \n",
    "y_std = y_std.flatten()\n",
    "y_std\n",
    "del yy"
   ]
  },
  {
   "cell_type": "code",
   "execution_count": 35,
   "metadata": {},
   "outputs": [],
   "source": [
    "#先对数据进行分箱，利用卡方检验进行推断\n",
    "dist_names = ['beta',   #  候选分布\n",
    "              'expon',\n",
    "              'gamma',\n",
    "              'lognorm',\n",
    "              'norm',  \n",
    "              'pearson3',\n",
    "              'triang',\n",
    "              'uniform',\n",
    "              'weibull_min', \n",
    "              'weibull_max']\n",
    "\n",
    "# Set up empty lists to stroe results\n",
    "chi_square = []   #分箱\n",
    "p_values = []\n",
    "percentile_bins = np.linspace(0,100,51)  #分箱，\n",
    "percentile_cutoffs = np.percentile(y_std, percentile_bins)\n",
    "observed_frequency, bins = (np.histogram(y_std, bins=percentile_cutoffs))\n",
    "cum_observed_frequency = np.cumsum(observed_frequency)\n"
   ]
  },
  {
   "cell_type": "code",
   "execution_count": 36,
   "metadata": {},
   "outputs": [
    {
     "name": "stderr",
     "output_type": "stream",
     "text": [
      "/srv/conda/lib/python3.7/site-packages/scipy/stats/_continuous_distns.py:515: RuntimeWarning: invalid value encountered in sqrt\n",
      "  sk = 2*(b-a)*np.sqrt(a + b + 1) / (a + b + 2) / np.sqrt(a*b)\n"
     ]
    }
   ],
   "source": [
    "# Loop through candidate distributions\n",
    "\n",
    "for distribution in dist_names:\n",
    "    # Set up distribution and get fitted distribution parameters\n",
    "    dist = getattr(scipy.stats, distribution)\n",
    "    param = dist.fit(y_std)\n",
    "    \n",
    "    # Obtain the KS test P statistic, round it to 5 decimal places\n",
    "    p = scipy.stats.kstest(y_std, distribution, args=param)[1]\n",
    "    p = np.around(p, 5)\n",
    "    p_values.append(p)    \n",
    "    \n",
    "    # Get expected counts in percentile bins\n",
    "    # This is based on a 'cumulative distrubution function' (cdf)\n",
    "    cdf_fitted = dist.cdf(percentile_cutoffs, *param[:-2], loc=param[-2], \n",
    "                          scale=param[-1])\n",
    "    expected_frequency = []\n",
    "    for bin in range(len(percentile_bins)-1):\n",
    "        expected_cdf_area = cdf_fitted[bin+1] - cdf_fitted[bin]\n",
    "        expected_frequency.append(expected_cdf_area)\n",
    "    \n",
    "    # calculate chi-squared\n",
    "    expected_frequency = np.array(expected_frequency) * size\n",
    "    cum_expected_frequency = np.cumsum(expected_frequency)\n",
    "    ss = sum (((cum_expected_frequency - cum_observed_frequency) ** 2) / cum_observed_frequency)\n",
    "    chi_square.append(ss)\n",
    " "
   ]
  },
  {
   "cell_type": "code",
   "execution_count": 37,
   "metadata": {},
   "outputs": [
    {
     "name": "stdout",
     "output_type": "stream",
     "text": [
      "\n",
      "Distributions sorted by goodness of fit:\n",
      "----------------------------------------\n",
      "  Distribution    chi_square  p_value\n",
      "3      lognorm     30.426685  0.17957\n",
      "2        gamma     44.960532  0.06151\n",
      "5     pearson3     44.961716  0.06152\n",
      "0         beta     48.102181  0.06558\n",
      "4         norm    292.430764  0.00000\n",
      "6       triang    532.742597  0.00000\n",
      "7      uniform   2150.558410  0.00000\n",
      "1        expon   5701.446012  0.00000\n",
      "9  weibull_max  10452.188968  0.00000\n",
      "8  weibull_min  12002.386769  0.00000\n"
     ]
    }
   ],
   "source": [
    "# Collate results and sort by goodness of fit (best at top)\n",
    "\n",
    "results = pd.DataFrame()\n",
    "results['Distribution'] = dist_names\n",
    "results['chi_square'] = chi_square\n",
    "results['p_value'] = p_values\n",
    "results.sort_values(['chi_square'], inplace=True)\n",
    "    \n",
    "# Report results\n",
    "\n",
    "print ('\\nDistributions sorted by goodness of fit:')\n",
    "print ('----------------------------------------')\n",
    "print (results)"
   ]
  },
  {
   "cell_type": "code",
   "execution_count": 38,
   "metadata": {},
   "outputs": [
    {
     "data": {
      "image/png": "[encoded data removed]",
      "text/plain": [
       "<Figure size 432x288 with 1 Axes>"
      ]
     },
     "metadata": {
      "needs_background": "light"
     },
     "output_type": "display_data"
    },
    {
     "name": "stdout",
     "output_type": "stream",
     "text": [
      "\n",
      "Distribution parameters:\n",
      "------------------------\n",
      "\n",
      "Distribution: lognorm\n",
      "Parameters: (0.3411670333611477, 4.067737189292493, 9.490709944326486)\n",
      "\n",
      "Distribution: gamma\n",
      "Parameters: (5.252232022713325, 6.175162625863668, 1.5140473798580563)\n",
      "\n",
      "Distribution: pearson3\n",
      "Parameters: (0.8726704680754525, 14.127306804909308, 3.4698385545042782)\n"
     ]
    }
   ],
   "source": [
    "# Divide the observed data into 100 bins for plotting (this can be changed)\n",
    "number_of_bins = 100\n",
    "bin_cutoffs = np.linspace(np.percentile(y,0), np.percentile(y,99),number_of_bins)\n",
    "\n",
    "# Create the plot\n",
    "h = plt.hist(y, bins = bin_cutoffs, color='0.75')\n",
    "\n",
    "# Get the top three distributions from the previous phase\n",
    "number_distributions_to_plot = 3\n",
    "dist_names = results['Distribution'].iloc[0:number_distributions_to_plot]\n",
    "\n",
    "# Create an empty list to stroe fitted distribution parameters\n",
    "parameters = []\n",
    "\n",
    "# Loop through the distributions ot get line fit and paraemters\n",
    "\n",
    "for dist_name in dist_names:\n",
    "    # Set up distribution and store distribution paraemters\n",
    "    dist = getattr(scipy.stats, dist_name)\n",
    "    param = dist.fit(y)\n",
    "    parameters.append(param)\n",
    "    \n",
    "    # Get line for each distribution (and scale to match observed data)\n",
    "    pdf_fitted = dist.pdf(x, *param[:-2], loc=param[-2], scale=param[-1])\n",
    "    scale_pdf = np.trapz (h[0], h[1][:-1]) / np.trapz (pdf_fitted, x)\n",
    "    pdf_fitted *= scale_pdf\n",
    "    \n",
    "    # Add the line to the plot\n",
    "    plt.plot(pdf_fitted, label=dist_name)\n",
    "    \n",
    "    # Set the plot x axis to contain 99% of the data\n",
    "    # This can be removed, but sometimes outlier data makes the plot less clear\n",
    "    plt.xlim(0,np.percentile(y,99))\n",
    "\n",
    "# Add legend and display plot\n",
    "\n",
    "plt.legend()\n",
    "plt.show()\n",
    "\n",
    "# Store distribution paraemters in a dataframe (this could also be saved)\n",
    "dist_parameters = pd.DataFrame()\n",
    "dist_parameters['Distribution'] = (\n",
    "        results['Distribution'].iloc[0:number_distributions_to_plot])\n",
    "dist_parameters['Distribution parameters'] = parameters\n",
    "\n",
    "# Print parameter results\n",
    "print ('\\nDistribution parameters:')\n",
    "print ('------------------------')\n",
    "\n",
    "for index, row in dist_parameters.iterrows():\n",
    "    print ('\\nDistribution:', row[0])\n",
    "    print ('Parameters:', row[1] )"
   ]
  },
  {
   "cell_type": "markdown",
   "metadata": {},
   "source": [
    "qq 和 pp图是两种查看数据分布拟合效果的两种方式（基础的是直方图）。散点分布与对角线重合得越紧，数据就越有可能服从该分布。"
   ]
  },
  {
   "cell_type": "code",
   "execution_count": 39,
   "metadata": {},
   "outputs": [
    {
     "data": {
      "image/png": "[encoded data removed]",
      "text/plain": [
       "<Figure size 576x360 with 2 Axes>"
      ]
     },
     "metadata": {
      "needs_background": "light"
     },
     "output_type": "display_data"
    },
    {
     "data": {
      "image/png": "[encoded data removed]",
      "text/plain": [
       "<Figure size 576x360 with 2 Axes>"
      ]
     },
     "metadata": {
      "needs_background": "light"
     },
     "output_type": "display_data"
    },
    {
     "data": {
      "image/png": "[encoded data removed]",
      "text/plain": [
       "<Figure size 576x360 with 2 Axes>"
      ]
     },
     "metadata": {
      "needs_background": "light"
     },
     "output_type": "display_data"
    }
   ],
   "source": [
    "## qq and pp plots\n",
    "    \n",
    "data = y_std.copy()\n",
    "data.sort()\n",
    "\n",
    "# Loop through selected distributions (as previously selected)\n",
    "\n",
    "for distribution in dist_names:\n",
    "    # Set up distribution\n",
    "    dist = getattr(scipy.stats, distribution)\n",
    "    param = dist.fit(y_std)\n",
    "    \n",
    "    # Get random numbers from distribution\n",
    "    norm = dist.rvs(*param[0:-2],loc=param[-2], scale=param[-1],size = size)\n",
    "    norm.sort()\n",
    "    \n",
    "    # Create figure\n",
    "    fig = plt.figure(figsize=(8,5)) \n",
    "    \n",
    "    # qq plot\n",
    "    ax1 = fig.add_subplot(121) # Grid of 2x2, this is suplot 1\n",
    "    ax1.plot(norm,data,\"o\")\n",
    "    min_value = np.floor(min(min(norm),min(data)))\n",
    "    max_value = np.ceil(max(max(norm),max(data)))\n",
    "    ax1.plot([min_value,max_value],[min_value,max_value],'r--')\n",
    "    ax1.set_xlim(min_value,max_value)\n",
    "    ax1.set_xlabel('Theoretical quantiles')\n",
    "    ax1.set_ylabel('Observed quantiles')\n",
    "    title = 'qq plot for ' + distribution +' distribution'\n",
    "    ax1.set_title(title)\n",
    "    \n",
    "    # pp plot\n",
    "    ax2 = fig.add_subplot(122)\n",
    "    \n",
    "    # Calculate cumulative distributions\n",
    "    bins = np.percentile(norm,range(0,101))\n",
    "    data_counts, bins = np.histogram(data,bins)\n",
    "    norm_counts, bins = np.histogram(norm,bins)\n",
    "    cum_data = np.cumsum(data_counts)\n",
    "    cum_norm = np.cumsum(norm_counts)\n",
    "    cum_data = cum_data / max(cum_data)\n",
    "    cum_norm = cum_norm / max(cum_norm)\n",
    "    \n",
    "    # plot\n",
    "    ax2.plot(cum_norm,cum_data,\"o\")\n",
    "    min_value = np.floor(min(min(cum_norm),min(cum_data)))\n",
    "    max_value = np.ceil(max(max(cum_norm),max(cum_data)))\n",
    "    ax2.plot([min_value,max_value],[min_value,max_value],'r--')\n",
    "    ax2.set_xlim(min_value,max_value)\n",
    "    ax2.set_xlabel('Theoretical cumulative distribution')\n",
    "    ax2.set_ylabel('Observed cumulative distribution')\n",
    "    title = 'pp plot for ' + distribution +' distribution'\n",
    "    ax2.set_title(title)\n",
    "    \n",
    "    # Display plot    \n",
    "    plt.tight_layout(pad=4)\n",
    "    plt.show()"
   ]
  },
  {
   "cell_type": "markdown",
   "metadata": {},
   "source": [
    "# <b> 3. 置信区间 </b>\n",
    "\n",
    "the 95% confidence intervals on the proportion"
   ]
  },
  {
   "cell_type": "code",
   "execution_count": 12,
   "metadata": {},
   "outputs": [
    {
     "name": "stdout",
     "output_type": "stream",
     "text": [
      "Lower confidence interval: 0.21034248403748906\n",
      "Upper confidence interval: 0.3729908492958443\n"
     ]
    }
   ],
   "source": [
    "lower, upper = smp.proportion_confint (35, 120, alpha=0.05, method='normal')\n",
    "print ('Lower confidence interval:', lower)\n",
    "print ('Upper confidence interval:', upper)"
   ]
  }
 ],
 "metadata": {
  "kernelspec": {
   "display_name": "Python 3",
   "language": "python",
   "name": "python3"
  },
  "language_info": {
   "codemirror_mode": {
    "name": "ipython",
    "version": 3
   },
   "file_extension": ".py",
   "mimetype": "text/x-python",
   "name": "python",
   "nbconvert_exporter": "python",
   "pygments_lexer": "ipython3",
   "version": "3.7.1"
  }
 },
 "nbformat": 4,
 "nbformat_minor": 2
}
