{
 "cells": [
  {
   "cell_type": "markdown",
   "metadata": {},
   "source": [
    "# <b> chi-squared test卡方检验 </b>\n",
    "\n",
    "　　卡方检验：是一种用途很广的计数资料的假设检验方法。它属于非参数检验的范畴，主要是比较两个及两个以上样本率( 构成比）以及两个分类变量的关联性分析。其根本思想就是在于比较理论频数和实际频数的吻合程度或拟合优度问题。\n",
    "\n",
    "　　它在分类资料统计推断中的应用，包括：两个率或两个构成比比较的卡方检验；多个率或多个构成比比较的卡方检验以及分类资料的相关分析等。\n",
    "  \n",
    "  样本量要求：80%以上的频数必须大于5，所有频数必须大于1）。\n",
    "\n",
    "H0：观察频数与期望频数没有差别     H1 ： 观察频数与期望频数有差别\n",
    "\n",
    "如果P值很小，说明观察值与理论值偏离程度太大，应当拒绝无效假设，表示比较资料之间有显著差异；否则就不能拒绝无效假设，尚不能认为样本所代表的实际情况和理论假设有差别。"
   ]
  },
  {
   "cell_type": "code",
   "execution_count": 1,
   "metadata": {},
   "outputs": [
    {
     "name": "stdout",
     "output_type": "stream",
     "text": [
      "               A   B    C   D\n",
      "White Collar  90  60  104  95\n",
      "Blue Collar   30  50   51  20\n",
      "No collar     30  40   45  35\n"
     ]
    }
   ],
   "source": [
    "import numpy as np\n",
    "import pandas as pd\n",
    "import scipy.stats as stats\n",
    "\n",
    "cols = ['A', 'B', 'C', 'D']\n",
    "data = pd.DataFrame(columns=cols)\n",
    "\n",
    "data.loc['White Collar'] = [90, 60, 104, 95]\n",
    "data.loc['Blue Collar'] = [30, 50, 51, 20]\n",
    "data.loc['No collar'] = [30, 40, 45, 35]\n",
    "\n",
    "print (data)"
   ]
  },
  {
   "cell_type": "code",
   "execution_count": 2,
   "metadata": {},
   "outputs": [
    {
     "name": "stdout",
     "output_type": "stream",
     "text": [
      "P value for effect of area on proportion of each collar:\n",
      "0.0004098425861096696\n",
      "\n",
      "Expected numbers if area did not effect proportion of each collar:\n",
      "[[ 80.53846154  80.53846154 107.38461538  80.53846154]\n",
      " [ 34.84615385  34.84615385  46.46153846  34.84615385]\n",
      " [ 34.61538462  34.61538462  46.15384615  34.61538462]]\n"
     ]
    }
   ],
   "source": [
    "V, p, dof, expected = stats.chi2_contingency(data) \n",
    "# add correction=False for uncorrected Chi-square\n",
    "\n",
    "print ('P value for effect of area on proportion of each collar:')\n",
    "print (p)\n",
    "print ('\\nExpected numbers if area did not effect proportion of each collar:')\n",
    "print (expected)\n"
   ]
  },
  {
   "cell_type": "markdown",
   "metadata": {},
   "source": [
    "# <b>  Fisher'exact test Fisher 确切检验</b>\n",
    "和卡方检验类似，但Fish更适合用于小样本数据集，即20%的频数小于5或至少一个频数等于0的情况下"
   ]
  },
  {
   "cell_type": "code",
   "execution_count": 5,
   "metadata": {},
   "outputs": [
    {
     "name": "stdout",
     "output_type": "stream",
     "text": [
      "Data:\n",
      "[[1 5]\n",
      " [8 2]]\n",
      "\n",
      "Probability that column does not effect row values:\n",
      "0.03496503496503495\n"
     ]
    }
   ],
   "source": [
    "\n",
    "obs = np.array([[1,5], [8,2]])\n",
    "fisher_result = stats.fisher_exact(obs)\n",
    "\n",
    "p_val = fisher_result[1]\n",
    "\n",
    "print ('Data:')\n",
    "print (obs)\n",
    "\n",
    "print ('\\nProbability that column does not effect row values:')\n",
    "print (p_val)"
   ]
  },
  {
   "cell_type": "code",
   "execution_count": null,
   "metadata": {},
   "outputs": [],
   "source": []
  }
 ],
 "metadata": {
  "kernelspec": {
   "display_name": "Python 3",
   "language": "python",
   "name": "python3"
  },
  "language_info": {
   "codemirror_mode": {
    "name": "ipython",
    "version": 3
   },
   "file_extension": ".py",
   "mimetype": "text/x-python",
   "name": "python",
   "nbconvert_exporter": "python",
   "pygments_lexer": "ipython3",
   "version": "3.6.4"
  }
 },
 "nbformat": 4,
 "nbformat_minor": 2
}
