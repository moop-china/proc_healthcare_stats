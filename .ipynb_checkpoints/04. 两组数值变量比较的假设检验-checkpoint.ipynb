{
 "cells": [
  {
   "cell_type": "code",
   "execution_count": 4,
   "metadata": {},
   "outputs": [
    {
     "name": "stdout",
     "output_type": "stream",
     "text": [
      "['.ipynb_checkpoints', '2.统计描述.ipynb', '1.绪论.ipynb', 'data', 'install.ipynb', '3.两组数值变量比较的假设检验.ipynb', '4.多组数值变量比较的假设检验.ipynb']\n"
     ]
    }
   ],
   "source": [
    "import os\n",
    "import pandas as pd\n",
    "import seaborn as sns\n",
    "import numpy as np\n",
    "from scipy import stats\n",
    "dir = \"../../teaching/医学统计实操/\"\n",
    "print(os.listdir(\"../../teaching/医学统计实操/\"))  # 确认路径正确"
   ]
  },
  {
   "cell_type": "code",
   "execution_count": 5,
   "metadata": {},
   "outputs": [
    {
     "data": {
      "text/html": [
       "<div>\n",
       "<style scoped>\n",
       "    .dataframe tbody tr th:only-of-type {\n",
       "        vertical-align: middle;\n",
       "    }\n",
       "\n",
       "    .dataframe tbody tr th {\n",
       "        vertical-align: top;\n",
       "    }\n",
       "\n",
       "    .dataframe thead th {\n",
       "        text-align: right;\n",
       "    }\n",
       "</style>\n",
       "<table border=\"1\" class=\"dataframe\">\n",
       "  <thead>\n",
       "    <tr style=\"text-align: right;\">\n",
       "      <th></th>\n",
       "      <th>年龄</th>\n",
       "      <th>性别</th>\n",
       "      <th>胸痛类型</th>\n",
       "      <th>静息血压</th>\n",
       "      <th>血浆类固醇含量（mg/dl）</th>\n",
       "      <th>空腹血糖&gt;120mg/dl</th>\n",
       "      <th>静息心电图结果</th>\n",
       "      <th>最高心率</th>\n",
       "      <th>运动型心绞痛</th>\n",
       "      <th>运动引起的ST下降</th>\n",
       "      <th>最大运动量时心电图ST的斜率</th>\n",
       "      <th>使用荧光染色法测定的主血管数</th>\n",
       "      <th>THAL</th>\n",
       "      <th>患病情况</th>\n",
       "    </tr>\n",
       "  </thead>\n",
       "  <tbody>\n",
       "    <tr>\n",
       "      <th>0</th>\n",
       "      <td>70</td>\n",
       "      <td>1</td>\n",
       "      <td>4</td>\n",
       "      <td>130</td>\n",
       "      <td>322</td>\n",
       "      <td>0</td>\n",
       "      <td>2</td>\n",
       "      <td>109</td>\n",
       "      <td>0</td>\n",
       "      <td>2.4</td>\n",
       "      <td>2</td>\n",
       "      <td>3</td>\n",
       "      <td>3</td>\n",
       "      <td>2</td>\n",
       "    </tr>\n",
       "    <tr>\n",
       "      <th>1</th>\n",
       "      <td>67</td>\n",
       "      <td>0</td>\n",
       "      <td>3</td>\n",
       "      <td>115</td>\n",
       "      <td>564</td>\n",
       "      <td>0</td>\n",
       "      <td>2</td>\n",
       "      <td>160</td>\n",
       "      <td>0</td>\n",
       "      <td>1.6</td>\n",
       "      <td>2</td>\n",
       "      <td>0</td>\n",
       "      <td>7</td>\n",
       "      <td>1</td>\n",
       "    </tr>\n",
       "    <tr>\n",
       "      <th>2</th>\n",
       "      <td>57</td>\n",
       "      <td>1</td>\n",
       "      <td>2</td>\n",
       "      <td>124</td>\n",
       "      <td>261</td>\n",
       "      <td>0</td>\n",
       "      <td>0</td>\n",
       "      <td>141</td>\n",
       "      <td>0</td>\n",
       "      <td>0.3</td>\n",
       "      <td>1</td>\n",
       "      <td>0</td>\n",
       "      <td>7</td>\n",
       "      <td>2</td>\n",
       "    </tr>\n",
       "    <tr>\n",
       "      <th>3</th>\n",
       "      <td>64</td>\n",
       "      <td>1</td>\n",
       "      <td>4</td>\n",
       "      <td>128</td>\n",
       "      <td>263</td>\n",
       "      <td>0</td>\n",
       "      <td>0</td>\n",
       "      <td>105</td>\n",
       "      <td>1</td>\n",
       "      <td>0.2</td>\n",
       "      <td>2</td>\n",
       "      <td>1</td>\n",
       "      <td>7</td>\n",
       "      <td>1</td>\n",
       "    </tr>\n",
       "    <tr>\n",
       "      <th>4</th>\n",
       "      <td>74</td>\n",
       "      <td>0</td>\n",
       "      <td>2</td>\n",
       "      <td>120</td>\n",
       "      <td>269</td>\n",
       "      <td>0</td>\n",
       "      <td>2</td>\n",
       "      <td>121</td>\n",
       "      <td>1</td>\n",
       "      <td>0.2</td>\n",
       "      <td>1</td>\n",
       "      <td>1</td>\n",
       "      <td>3</td>\n",
       "      <td>1</td>\n",
       "    </tr>\n",
       "  </tbody>\n",
       "</table>\n",
       "</div>"
      ],
      "text/plain": [
       "   年龄  性别  胸痛类型  静息血压  血浆类固醇含量（mg/dl）  空腹血糖>120mg/dl  静息心电图结果  最高心率  运动型心绞痛  \\\n",
       "0  70   1     4   130             322              0        2   109       0   \n",
       "1  67   0     3   115             564              0        2   160       0   \n",
       "2  57   1     2   124             261              0        0   141       0   \n",
       "3  64   1     4   128             263              0        0   105       1   \n",
       "4  74   0     2   120             269              0        2   121       1   \n",
       "\n",
       "   运动引起的ST下降  最大运动量时心电图ST的斜率  使用荧光染色法测定的主血管数  THAL  患病情况  \n",
       "0        2.4               2               3     3     2  \n",
       "1        1.6               2               0     7     1  \n",
       "2        0.3               1               0     7     2  \n",
       "3        0.2               2               1     7     1  \n",
       "4        0.2               1               1     3     1  "
      ]
     },
     "execution_count": 5,
     "metadata": {},
     "output_type": "execute_result"
    }
   ],
   "source": [
    "df = pd.read_csv(dir+\"data/心脏病诊断数据集（原数据）.csv\",header=None) #读取csv文件，没有列名\n",
    "df.columns = [\"年龄\",\"性别\",\"胸痛类型\",\"静息血压\",\"血浆类固醇含量（mg/dl）\",\"空腹血糖>120mg/dl\",\"静息心电图结果\",\"最高心率\",\"运动型心绞痛\",\"运动引起的ST下降\",\"最大运动量时心电图ST的斜率\",\"使用荧光染色法测定的主血管数\",\"THAL\",\"患病情况\"]                                                 #添加列名\n",
    "df.head(5)"
   ]
  },
  {
   "cell_type": "code",
   "execution_count": null,
   "metadata": {},
   "outputs": [],
   "source": [
    "female_hb = df[df[\"性别\"] == 0][\"空腹血糖>120mg/dl\"]   #按性别分组\n",
    "male_hb = df[df[\"性别\"] == 1][\"空腹血糖>120mg/dl\"]"
   ]
  },
  {
   "cell_type": "markdown",
   "metadata": {},
   "source": [
    "# <b> 2. 参数检验 </b>"
   ]
  },
  {
   "cell_type": "markdown",
   "metadata": {},
   "source": [
    "Student T检验,用于比较均值\n",
    "\n",
    "<b>1. 独立样本检验</b>\n",
    "\n",
    "均值检验\n",
    "\n",
    "H0 : mean = c                H1: mean != c    （c：常数）\n",
    "\n",
    "当p值大于α，接受H0；p值小于α ，不能接受H0"
   ]
  },
  {
   "cell_type": "code",
   "execution_count": 6,
   "metadata": {},
   "outputs": [
    {
     "data": {
      "text/plain": [
       "Ttest_1sampResult(statistic=44.07483835999849, pvalue=4.502716762200011e-125)"
      ]
     },
     "execution_count": 6,
     "metadata": {},
     "output_type": "execute_result"
    }
   ],
   "source": [
    "stats.ttest_1samp(df[\"年龄\"],30)"
   ]
  },
  {
   "cell_type": "markdown",
   "metadata": {},
   "source": [
    "pvalue是10^-125,在显著性水平α=0.01水平上，拒绝H0，平均值等于30.\n",
    "\n",
    "<b>2. 两组样本检验</b>\n",
    "\n",
    "均值检验\n",
    "\n",
    "H0 : group1_mean = group2_mean       H1: group1_mean != group2_mean    \n",
    "\n",
    "group1_mean,group2_mean是不同样本的均值\n",
    "\n",
    "当p值大于α，接受H0；p值小于α ，不能接受H0\n"
   ]
  },
  {
   "cell_type": "code",
   "execution_count": 13,
   "metadata": {},
   "outputs": [
    {
     "data": {
      "text/plain": [
       "Ttest_indResult(statistic=-0.6904693906975238, pvalue=0.4904965923631768)"
      ]
     },
     "execution_count": 13,
     "metadata": {},
     "output_type": "execute_result"
    }
   ],
   "source": [
    "stats.ttest_ind(female_hb,male_hb)"
   ]
  },
  {
   "cell_type": "markdown",
   "metadata": {},
   "source": [
    "pvalue是0.49,在显著性水平a = 0.05水平上，接受H0，两组均值相等。"
   ]
  },
  {
   "cell_type": "markdown",
   "metadata": {},
   "source": [
    "<b>3. 配对样本检验</b>\n",
    "\n",
    "“paired test”, or “repeated measures test”\n",
    "\n",
    "配对样本是指对同一样本进行两次测试所获得的两组数据，或对两个完全的样本在不同条件下进行测试所得到的两组数据；例如，最高心率，在不同情况下，测试结果可能不同。\n",
    "\n",
    "H0 : time1_mean = time2_mean       H1: time1_mean != time2_mean    \n",
    "\n",
    "(time1_mean第一次的测试结果，time2_mean是第二次测试结果）\n",
    "\n",
    "当p值大于α，接受H0；p值小于α ，不能接受H0\n"
   ]
  },
  {
   "cell_type": "code",
   "execution_count": 8,
   "metadata": {},
   "outputs": [
    {
     "data": {
      "text/plain": [
       "Ttest_relResult(statistic=-11.50090075742088, pvalue=3.6625923715387e-25)"
      ]
     },
     "execution_count": 8,
     "metadata": {},
     "output_type": "execute_result"
    }
   ],
   "source": [
    "first_time = df[\"最高心率\"]\n",
    "second_time = df[\"最高心率\"]+df[\"运动型心绞痛\"]  #这里我们没有多次测试结果，仅仅在原有数据上任意做了小的调整，进行展示\n",
    "\n",
    "stats.ttest_rel(first_time, second_time)  "
   ]
  },
  {
   "cell_type": "markdown",
   "metadata": {},
   "source": [
    "# <b> 2.非参数检验 </b>\n",
    "# <b> 2.2 Wilcoxon 符号秩检验 </b>\n",
    "\n",
    "秩检验是非参数的统计假设检验，用于检验非Gaussian分布<b>的配对样本</b>数据均值。它的null假设是配对样本来自同一个分布。它测试配对值的差是否以0为中心对称，因此，它是一个配对检验，但并不是配对T检验的非参数版本。\n",
    "\n",
    "H0 ：mean1-mean2 is symmetric about zero   H1: mean1-mean2 isn't symmetric about zero\n",
    "\n",
    "当p值大于α，接受H0；p值小于α ，不能接受H0"
   ]
  },
  {
   "cell_type": "code",
   "execution_count": 9,
   "metadata": {},
   "outputs": [
    {
     "data": {
      "text/plain": [
       "WilcoxonResult(statistic=0.0, pvalue=3.948125300164187e-21)"
      ]
     },
     "execution_count": 9,
     "metadata": {},
     "output_type": "execute_result"
    }
   ],
   "source": [
    "stats.wilcoxon(first_time,second_time,zero_method = 'wilcox')  # 如果第二个参数为空，则认为第一个参数已是配对样本值的差。"
   ]
  },
  {
   "cell_type": "markdown",
   "metadata": {},
   "source": [
    "# <b> 4. Mann-Whiney U 检验 \n",
    "    \n",
    "    U检验是非参数的统计假设检验，用于当检验非Gaussian分布的<b>两组数据</b>均值。它的null假设是两组数据拥有相同的分布，均值相同。\n",
    "    \n",
    "    H0 : group1_mean = group2_mean       H1: group1_mean != group2_mean    \n",
    "\n",
    "当p值大于α，接受H0；p值小于α ，不能接受H0\n",
    " "
   ]
  },
  {
   "cell_type": "code",
   "execution_count": 11,
   "metadata": {},
   "outputs": [
    {
     "data": {
      "text/plain": [
       "MannwhitneyuResult(statistic=7705.5, pvalue=0.2451641563175555)"
      ]
     },
     "execution_count": 11,
     "metadata": {},
     "output_type": "execute_result"
    }
   ],
   "source": [
    "stats.mannwhitneyu(female_hb,male_hb)\n"
   ]
  },
  {
   "cell_type": "code",
   "execution_count": null,
   "metadata": {},
   "outputs": [],
   "source": []
  }
 ],
 "metadata": {
  "kernelspec": {
   "display_name": "Python 3",
   "language": "python",
   "name": "python3"
  },
  "language_info": {
   "codemirror_mode": {
    "name": "ipython",
    "version": 3
   },
   "file_extension": ".py",
   "mimetype": "text/x-python",
   "name": "python",
   "nbconvert_exporter": "python",
   "pygments_lexer": "ipython3",
   "version": "3.7.1"
  }
 },
 "nbformat": 4,
 "nbformat_minor": 2
}
